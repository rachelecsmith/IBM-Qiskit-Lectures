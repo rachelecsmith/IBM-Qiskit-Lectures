{
 "cells": [
  {
   "cell_type": "markdown",
   "id": "5d44f73a",
   "metadata": {},
   "source": [
    "### Transforming Quantum Circuits using Qiskit's Transpiler with Matthew Treinish: Qiskit Summer School 2024"
   ]
  },
  {
   "cell_type": "code",
   "execution_count": null,
   "id": "553a8251",
   "metadata": {},
   "outputs": [],
   "source": []
  }
 ],
 "metadata": {
  "kernelspec": {
   "display_name": "cwq",
   "language": "python",
   "name": "python3"
  },
  "language_info": {
   "name": "python",
   "version": "3.13.2"
  }
 },
 "nbformat": 4,
 "nbformat_minor": 5
}
