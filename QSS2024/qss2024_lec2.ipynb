{
 "cells": [
  {
   "cell_type": "markdown",
   "id": "93851dc1",
   "metadata": {},
   "source": [
    "An Introduction to Qiskit Runtime Primitives Version 2 with Chris Wood: Qiskit Summer School 2024"
   ]
  },
  {
   "cell_type": "code",
   "execution_count": null,
   "id": "d95e5683",
   "metadata": {},
   "outputs": [],
   "source": []
  }
 ],
 "metadata": {
  "kernelspec": {
   "display_name": "cwq",
   "language": "python",
   "name": "python3"
  },
  "language_info": {
   "name": "python",
   "version": "3.13.2"
  }
 },
 "nbformat": 4,
 "nbformat_minor": 5
}
