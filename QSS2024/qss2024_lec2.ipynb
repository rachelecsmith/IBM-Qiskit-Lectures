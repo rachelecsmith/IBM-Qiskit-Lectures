{
 "cells": [
  {
   "cell_type": "markdown",
   "id": "93851dc1",
   "metadata": {},
   "source": [
    "### An Introduction to Qiskit Runtime Primitives Version 2 with Chris Wood: Qiskit Summer School 2024"
   ]
  },
  {
   "cell_type": "markdown",
   "id": "0b027fd6",
   "metadata": {},
   "source": [
    "#### Sampler V2\n",
    "- Low-level execution of circuits\n",
    "- Returns single-shot measurement outcomes\n",
    "- Circuits should include measurements\n",
    "- The **Sampler** primitive is a low-level primitive for the execution of circuits and obtaining raw measurement outcomes for each shot\n",
    "- The Sampler primitive API is defined by its run method\n",
    "    ```\n",
    "    Sampler.run(\n",
    "        pubs: list[SamplerPubLike],\n",
    "        shots: int | None = None,\n",
    "    ) -> Job[SamplerResult]\n",
    "    ```\n",
    "- It can accept a list of 1 or more input programs represented as sampler **Primitive Unified Blocs** (pubs)\n",
    "- Optional specification of the number of **shots** to run the pubs for"
   ]
  },
  {
   "cell_type": "markdown",
   "id": "2fbb7aa1",
   "metadata": {},
   "source": [
    "#### Primitive Unified Blocs\n",
    "- The Primitive Unified Bloc (pub) program input for the sampler is in general a tuple\n",
    "    ```\n",
    "    pub = (\n",
    "        circuit [required],\n",
    "        parameter_values [optional],\n",
    "        shots [optional]\n",
    "    )\n",
    "    ```\n",
    "- **Circuit**: An ISA `QuantumCircuit` containing 1 or more `ClassicalRegister` and `measure` instructions\n",
    "- **Parameter Values**: A tensor (ND-array) of sets of parameter values to evaluate a parametric circuit with\n",
    "- **Shots**: The number of samples or repetitions to measure the circuit for each set of parameter values\n",
    "- **Allowed pub-Like inputs**: Because of the optional arguments the following are all valid input pubs for the sampler\n",
    "    1. `(parametric_isa_circuit, parameter_values, shots)`\n",
    "    2. `(parametric_isa_circuit, parameter_values)`\n",
    "    3. `(non_parametric_isa_circuit, None, shots)`\n",
    "    4. `(non_parametric_isa_circuit, )`\n",
    "\n"
   ]
  },
  {
   "cell_type": "code",
   "execution_count": 4,
   "id": "d95e5683",
   "metadata": {},
   "outputs": [
    {
     "name": "stderr",
     "output_type": "stream",
     "text": [
      "/tmp/ipykernel_1233297/2655886467.py:6: DeprecationWarning: The \"ibm_quantum\" channel option is deprecated and will be sunset on 1 July. After this date, ibm_cloud will be the only valid channel. For information on migrating to the new IBM Quantum Platform on the \"ibm_cloud\" channel, review the migration guide https://quantum.cloud.ibm.com/docs/migration-guides/classic-iqp-to-cloud-iqp .\n",
      "  service = QiskitRuntimeService(channel=\"ibm_quantum\")\n"
     ]
    }
   ],
   "source": [
    "# Example: Run a simple Bell-state measurement circuit\n",
    "# Load runtime service account and select a backend\n",
    "from qiskit_ibm_runtime import QiskitRuntimeService\n",
    "\n",
    "# Load saved runtime account\n",
    "service = QiskitRuntimeService(channel=\"ibm_quantum\")\n",
    "backend = service.backend(\"ibm_brisbane\")"
   ]
  },
  {
   "cell_type": "code",
   "execution_count": 5,
   "id": "797df7d8",
   "metadata": {},
   "outputs": [
    {
     "data": {
      "text/plain": [
       "127"
      ]
     },
     "execution_count": 5,
     "metadata": {},
     "output_type": "execute_result"
    }
   ],
   "source": [
    "backend.num_qubits"
   ]
  },
  {
   "cell_type": "code",
   "execution_count": 8,
   "id": "a4e2461c",
   "metadata": {},
   "outputs": [],
   "source": [
    "# Create a circuit and transpile to a backend ISA circuit\n",
    "from qiskit import QuantumCircuit, transpile\n",
    "\n",
    "# Create a Bell circuit\n",
    "bell_meas = QuantumCircuit(2)\n",
    "bell_meas.h(0)\n",
    "bell_meas.cx(0,1)\n",
    "bell_meas.measure_all()\n",
    "\n",
    "# Transpile to an ISA circuit for the intended backend\n",
    "isa_bell_meas = transpile(bell_meas, backend)\n",
    "\n",
    "# Construct pub and run\n",
    "pub_bell_meas = (isa_bell_meas,)"
   ]
  },
  {
   "cell_type": "code",
   "execution_count": 9,
   "id": "d018cea6",
   "metadata": {},
   "outputs": [
    {
     "data": {
      "text/plain": [
       "DataBin(meas=BitArray(<shape=(), num_shots=10, num_bits=2>))"
      ]
     },
     "execution_count": 9,
     "metadata": {},
     "output_type": "execute_result"
    }
   ],
   "source": [
    "# Initialize a Sampler primitive and run pub\n",
    "from qiskit_ibm_runtime import SamplerV2\n",
    "\n",
    "# Initialize a sampler for the backend and run\n",
    "sampler = SamplerV2(backend)\n",
    "job_bell_meas = sampler.run([pub_bell_meas], shots=10)\n",
    "\n",
    "# Extract results\n",
    "result_bell_meas = job_bell_meas.result()\n",
    "data_bell_meas = result_bell_meas[0].data\n",
    "data_bell_meas"
   ]
  },
  {
   "cell_type": "markdown",
   "id": "aa34ce33",
   "metadata": {},
   "source": [
    "#### PubResult Class\n",
    "When run a Sampler Job will return a `PrimitiveResult` object containing an ordered list of `PubResult`s corresponding to each of the input pubs\n",
    "- `PubResult`: A data container of a single input Pub's execution results\n",
    "- `PubResult.data`: Contains the measurement outcome data for all classical registers in the input Pub's circuit\n",
    "- `PubResult.metadata`: Contains any additional metadata that a primitive might record\n",
    "\n",
    "#### DataBin Class\n",
    "The `PubResult.data` is a container called a `DataBin`\n",
    "- A `DataBin` which stores the outcomes of measurements in `ClassicalRegister` in the Pub circuit\n",
    "- Register results are accessed via name either as attributes, or as a mapping\n",
    "- Each register's data is stored in a `BitArray` container"
   ]
  },
  {
   "cell_type": "markdown",
   "id": "d0dc4dbe",
   "metadata": {},
   "source": [
    "#### Accessing Measurement Data\n",
    "- The `BitArray` class stores the single-shot outcomes of all classical registers\n",
    "- `BitArray` is an ND-array like object with the following attributes:\n",
    "    - **shape**: given by the input Pub parameter shape\n",
    "    - **num_bits**: the size of the input circuit's classical register\n",
    "    - **num_shots**: the number of shots per parameterization\n",
    "    - **array**: the internal result data as a packed array of uint8 (byte) values"
   ]
  },
  {
   "cell_type": "code",
   "execution_count": 10,
   "id": "5f789145",
   "metadata": {},
   "outputs": [
    {
     "name": "stdout",
     "output_type": "stream",
     "text": [
      "shape: ()\n",
      "num_bits: 2\n",
      "num_shots: 10\n",
      "array:\n",
      " [[1]\n",
      " [0]\n",
      " [3]\n",
      " [0]\n",
      " [3]\n",
      " [0]\n",
      " [0]\n",
      " [3]\n",
      " [0]\n",
      " [3]]\n"
     ]
    }
   ],
   "source": [
    "bits = data_bell_meas.meas\n",
    "print(\"shape:\", bits.shape)\n",
    "print(\"num_bits:\", bits.num_bits)\n",
    "print(\"num_shots:\", bits.num_shots)\n",
    "print(\"array:\\n\", bits.array)"
   ]
  },
  {
   "cell_type": "code",
   "execution_count": 11,
   "id": "a79b6aca",
   "metadata": {},
   "outputs": [
    {
     "name": "stdout",
     "output_type": "stream",
     "text": [
      "['01', '00', '11', '00', '11', '00', '00', '11', '00', '11']\n"
     ]
    }
   ],
   "source": [
    "bitstrings = bits.get_bitstrings()\n",
    "print(bitstrings)"
   ]
  },
  {
   "cell_type": "code",
   "execution_count": 12,
   "id": "452cddec",
   "metadata": {},
   "outputs": [
    {
     "name": "stdout",
     "output_type": "stream",
     "text": [
      "{'01': 1, '00': 5, '11': 4}\n"
     ]
    }
   ],
   "source": [
    "counts = bits.get_counts()\n",
    "print(counts)"
   ]
  },
  {
   "cell_type": "markdown",
   "id": "6233c5d8",
   "metadata": {},
   "source": [
    "#### Instruction Set Architecture (ISA) Circuits\n",
    "\n",
    "**What is an ISA circuit?**\n",
    "\n",
    "- An ISA circuit is a `QuantumCircuit` satisfying:\n",
    "    1. The same *number of qubits* as a device\n",
    "    2. Only contains *basis gates* for a device\n",
    "    3. Satisfies the *connectivity* of a device\n",
    "- If you are used to working with abstract or logical circuits, you will typically obtain an ISA circuit via *transpilation* to a target or backend\n",
    "    "
   ]
  },
  {
   "cell_type": "code",
   "execution_count": 13,
   "id": "dfcf3119",
   "metadata": {},
   "outputs": [
    {
     "data": {
      "image/png": "[encoded data removed]",
      "text/plain": [
       "<Figure size 580.387x284.278 with 1 Axes>"
      ]
     },
     "execution_count": 13,
     "metadata": {},
     "output_type": "execute_result"
    }
   ],
   "source": [
    "bell_meas.draw(\"mpl\")"
   ]
  },
  {
   "cell_type": "code",
   "execution_count": 14,
   "id": "c20b0857",
   "metadata": {},
   "outputs": [
    {
     "data": {
      "image/png": "[encoded data removed]",
      "text/plain": [
       "<Figure size 859.874x284.278 with 1 Axes>"
      ]
     },
     "execution_count": 14,
     "metadata": {},
     "output_type": "execute_result"
    }
   ],
   "source": [
    "isa_bell_meas.draw(\"mpl\")"
   ]
  },
  {
   "cell_type": "markdown",
   "id": "4d7d38ff",
   "metadata": {},
   "source": [
    "#### Parametric Circuits\n",
    "\n",
    "**What is a parametric circuit?**\n",
    "\n",
    "A parametric circuit (ISA or abstract) is a circuit that contains *unbound parameter* values\n",
    "\n",
    "**The shape of a Pub and PubResult**\n",
    "\n",
    "A sampler Pub shape is given the tensor shape its parameterizations to be evaluated\n",
    "- A non-parametric Pub has shape ()\n",
    "- If an ISA circuit has K parameters and (N,K) shape parameter values, it has shape(N,)\n",
    "- A parametric Pub can be converted to a list of non-parametric Pubs by binding all parameter values"
   ]
  },
  {
   "cell_type": "code",
   "execution_count": 21,
   "id": "9b82ef16",
   "metadata": {},
   "outputs": [
    {
     "data": {
      "text/plain": [
       "BitArray(<shape=(20,), num_shots=1000, num_bits=2>)"
      ]
     },
     "execution_count": 21,
     "metadata": {},
     "output_type": "execute_result"
    }
   ],
   "source": [
    "# Example: Control 2-qubit entanglement via parameter\n",
    "import numpy as np\n",
    "from qiskit.circuit import Parameter\n",
    "\n",
    "# Parameterized bell circuit\n",
    "theta = Parameter(\"θ\")\n",
    "par_bell_meas = QuantumCircuit(2)\n",
    "par_bell_meas.ry(theta, 0)\n",
    "par_bell_meas.cx(0,1)\n",
    "par_bell_meas.measure_all()\n",
    "\n",
    "# Parameter values to evaluate with 20 theta values\n",
    "param_vals = np.linspace(0, np.pi, 20)\n",
    "\n",
    "# Transpile to an ISA circuit for the intended backend\n",
    "isa_par_bell_meas = transpile(par_bell_meas, backend)\n",
    "\n",
    "# Construct Pub and run\n",
    "# Pub and result shape is (20,)\n",
    "pub_par_bell_meas = (isa_par_bell_meas, param_vals)\n",
    "job_par_bell_meas = sampler.run([pub_par_bell_meas], shots=1000)\n",
    "result_par_bell_meas = job_par_bell_meas.result()\n",
    "\n",
    "# Extract creg data\n",
    "bits = result_par_bell_meas[0].data.meas\n",
    "bits"
   ]
  },
  {
   "cell_type": "code",
   "execution_count": 24,
   "id": "da05c3bf",
   "metadata": {},
   "outputs": [
    {
     "data": {
      "image/png": "[encoded data removed]",
      "text/plain": [
       "<Figure size 640x480 with 1 Axes>"
      ]
     },
     "metadata": {},
     "output_type": "display_data"
    }
   ],
   "source": [
    "import matplotlib.pyplot as plt\n",
    "import seaborn\n",
    "seaborn.set()\n",
    "\n",
    "# Compute the probability of \"00\" outcome and \"11\" outcome\n",
    "p0s = np.sum(bits.array == 0, axis=1) / bits.num_shots\n",
    "p1s = np.sum(bits.array == 3, axis=1) / bits.num_shots\n",
    "\n",
    "plt.plot(param_vals, p0s, label=\"P('00')\")\n",
    "plt.plot(param_vals, p1s, label=\"P('11')\")\n",
    "plt.xlabel(\"θ\")\n",
    "plt.legend()\n",
    "plt.show()"
   ]
  },
  {
   "cell_type": "markdown",
   "id": "2b989000",
   "metadata": {},
   "source": [
    "#### Sampler V2 Shots\n",
    "\n",
    "**Specifying the number of shots**\n",
    "\n",
    "There are multiple ways to specify shots when running the Sampler.\n",
    "The order of resolution for these values is given by:\n",
    "\n",
    "1. If a Pub specifies shots it will be used\n",
    "2. If run kwarg specifies shots, it will be used in all Pubs *that do not specify shots*\n",
    "3. If no run kwarg is provided all Pubs without shots will use a default value chosen by the Sampler\n",
    "\n",
    "For the IBM runtime Sampler the default value is 4096 (1024?)."
   ]
  },
  {
   "cell_type": "code",
   "execution_count": 27,
   "id": "e0705c95",
   "metadata": {},
   "outputs": [],
   "source": [
    "# We will use a fake backend for these shots examples\n",
    "from qiskit_ibm_runtime.fake_provider import FakeManilaV2\n",
    "\n",
    "# Use a local fake backend\n",
    "fake_backend = FakeManilaV2()\n",
    "\n",
    "# Initialize a \"fake\" sampler for the fake backend\n",
    "fake_sampler = SamplerV2(fake_backend)\n",
    "\n",
    "# Transpile the Bell circuit to an ISA circuit for the fake backend\n",
    "fake_isa_bell_meas = transpile(bell_meas, fake_backend)"
   ]
  },
  {
   "cell_type": "code",
   "execution_count": 29,
   "id": "ee443d03",
   "metadata": {},
   "outputs": [
    {
     "name": "stdout",
     "output_type": "stream",
     "text": [
      "Pub 0: num_shots = 100\n",
      "Pub 1: num_shots = 200\n"
     ]
    }
   ],
   "source": [
    "# 1. All shots in Pub\n",
    "pub1a = (fake_isa_bell_meas, None, 100)\n",
    "pub1b = (fake_isa_bell_meas, None, 200)\n",
    "\n",
    "result1 = fake_sampler.run([pub1a, pub1b], shots=1000).result()\n",
    "\n",
    "for i, res in enumerate(result1):\n",
    "    print(f\"Pub {i}: num_shots = {res.data.meas.num_shots}\")"
   ]
  },
  {
   "cell_type": "code",
   "execution_count": 30,
   "id": "d004af77",
   "metadata": {},
   "outputs": [
    {
     "name": "stdout",
     "output_type": "stream",
     "text": [
      "Pub 0: num_shots = 1000\n",
      "Pub 1: num_shots = 200\n"
     ]
    }
   ],
   "source": [
    "# 2. Fall back to `run` shots\n",
    "pub2a = (fake_isa_bell_meas,)\n",
    "pub2b = (fake_isa_bell_meas, None, 200)\n",
    "\n",
    "result2 = fake_sampler.run([pub2a, pub2b], shots=1000).result()\n",
    "\n",
    "for i, res in enumerate(result2):\n",
    "    print(f\"Pub {i}: num_shots = {res.data.meas.num_shots}\")"
   ]
  },
  {
   "cell_type": "code",
   "execution_count": 31,
   "id": "4b9faf4a",
   "metadata": {},
   "outputs": [
    {
     "name": "stdout",
     "output_type": "stream",
     "text": [
      "Pub 0: num_shots = 1024\n",
      "Pub 1: num_shots = 200\n"
     ]
    }
   ],
   "source": [
    "# 3. Fall back to default shots\n",
    "pub3a = (fake_isa_bell_meas,)\n",
    "pub3b = (fake_isa_bell_meas, None, 200)\n",
    "\n",
    "result3 = fake_sampler.run([pub3a, pub3b]).result()\n",
    "\n",
    "for i, res in enumerate(result3):\n",
    "    print(f\"Pub {i}: num_shots = {res.data.meas.num_shots}\")"
   ]
  },
  {
   "cell_type": "markdown",
   "id": "7c5d1eaa",
   "metadata": {},
   "source": [
    "#### Estimator V2\n",
    "\n",
    "**Estimator Primitive**\n",
    "- Higher level execution for algorithms and applications\n",
    "- Returns expectation values of observables\n",
    "- Circuit should NOT include measurements\n",
    "\n",
    "The **Estimator** primitives is a higher-level primitive than the Sampler.\n",
    "- Used for evaluating estimates of *expectation values* on the state prepared by a circuit\n",
    "- The **Estimator** primitive API is defined by its run method\n",
    "    ```\n",
    "    Estimator.run(\n",
    "        pubs: list[EstimatorPub],\n",
    "        precision: float | None = None,\n",
    "    ) -> Job[EstimatorResult]\n",
    "    ```\n",
    "- It can accept a list of 1 or more input programs represented as estimator Pubs\n",
    "- Optional specification of the desired *precision* of expectation value estimates"
   ]
  },
  {
   "cell_type": "markdown",
   "id": "49ea4fc1",
   "metadata": {},
   "source": [
    "#### Estimator Pubs\n",
    "\n",
    "**Primitive Unified Blocs**\n",
    "\n",
    "The Primitive Unified Bloc (Pub) program input for the estimator is in general a tuple:\n",
    "```\n",
    "pub = (\n",
    "    circuit [required],\n",
    "    observables [required],\n",
    "    parameter_values [optional],\n",
    "    precision [optional],\n",
    ")\n",
    "```\n",
    "\n",
    "**Allowed Pub-like inputs**\n",
    "\n",
    "Because of the optional arguments the following are all valid inputs for the estimator:\n",
    "\n",
    "1. `(parametric_isa_circuit, isa_observables, parameter_values, precision)`\n",
    "2. `(parametric_isa_circuit, isa_observables, parameter_values)`\n",
    "3. `(non_parametric_isa_circuit, isa_observables, None, precision)`\n",
    "4. `(non_parametric_isa_circuit, isa_observables)`"
   ]
  },
  {
   "cell_type": "markdown",
   "id": "d9482413",
   "metadata": {},
   "source": [
    "#### Estimator Observables\n",
    "\n",
    "**Representing Observables**\n",
    "\n",
    "- An observable is a *Hermitian operator* represented as linear combinations of Pauli operators\n",
    "- *Single Pauli* operators can be represented as:\n",
    "    - A string containing I, X, Y, Z terms\n",
    "    - A `quantum_info.Pauli` object\n",
    "- A *list of Pauli* operators can be represented as:\n",
    "    - `list[Pauli]`\n",
    "    - `quantum_info.PauliList`\n",
    "- A *Hamiltonian* or other operator can be represented as a `quantum_info.SparsePauliOp`\n"
   ]
  },
  {
   "cell_type": "code",
   "execution_count": 32,
   "id": "e6f41a00",
   "metadata": {},
   "outputs": [],
   "source": [
    "## Create an ISA Circuit\n",
    "from qiskit_ibm_runtime import EstimatorV2\n",
    "\n",
    "# Create a Bell circuit\n",
    "bell = QuantumCircuit(2)\n",
    "bell.h(0)\n",
    "bell.cx(0,1)\n",
    "\n",
    "# Transpile to an ISA circuit for the intended backend\n",
    "isa_bell = transpile(bell, backend)\n",
    "\n",
    "## Create an ISA observable\n",
    "import qiskit.quantum_info as qi\n",
    "\n",
    "# Create an observable\n",
    "obs = qi.SparsePauliOp([\"ZZ\"])\n",
    "\n",
    "# Transpile to ISA observable for intended ISA circuit\n",
    "isa_obs = obs.apply_layout(isa_bell.layout)"
   ]
  },
  {
   "cell_type": "markdown",
   "id": "5c467687",
   "metadata": {},
   "source": [
    "#### Estimator V2 Results\n",
    "\n",
    "**Estimator DataBin**\n",
    "\n",
    "Like a sampler, an Estimator job will contain a `PrimitiveResult` with a list of `PubResults` for each input Pub.\n",
    "\n",
    "Instead of measure outcomes its `DataBin` contains fields:\n",
    "- **evs**: The mean expectation value estimates for all input Pub parameter values and observables\n",
    "- **stds**: The standard error of the mean of expectation value estimates"
   ]
  },
  {
   "cell_type": "code",
   "execution_count": 33,
   "id": "244c7dc9",
   "metadata": {},
   "outputs": [
    {
     "name": "stdout",
     "output_type": "stream",
     "text": [
      "<ZZ> = 0.941 +/- 0.008\n"
     ]
    }
   ],
   "source": [
    "## Run an Estimator Pub\n",
    "\n",
    "# Construct Estimator\n",
    "estimator = EstimatorV2(backend)\n",
    "\n",
    "# Construct Pub and run\n",
    "pub = (isa_bell, isa_obs)\n",
    "est_job_bell = estimator.run([pub])\n",
    "est_result_bell = est_job_bell.result()\n",
    "\n",
    "# View result data\n",
    "data = est_result_bell[0].data\n",
    "evs = data.evs\n",
    "stds = data.stds\n",
    "print(f\"<ZZ> = {evs:.3f} +/- {stds:.3f}\")"
   ]
  },
  {
   "cell_type": "markdown",
   "id": "bb912841",
   "metadata": {},
   "source": [
    "#### Estimator V2 Shape\n",
    "\n",
    "An Estimator Pub has a *shape* that depends on both the *parameter values shape* and the *observables shape*\n",
    "\n",
    "**Trivial Shaped Pubs**\n",
    "- Trivial shaped Pubs have `shape==()`\n",
    "- These return a single float as the `evs` result\n",
    "\n",
    "**Examples of `shape==()` Pubs**\n",
    "- A *non-parameteric* Pub with a *single observable*\n",
    "- A *parametric* Pub with a *single parameter values set* and a *single observable*\n",
    "\n",
    "For general tensor observables and parameter values sets the shape will be the *broadasted shape* of the two tensors"
   ]
  },
  {
   "cell_type": "markdown",
   "id": "4cd6f653",
   "metadata": {},
   "source": [
    "#### Estimator V2 Broadcasting\n",
    "\n",
    "**ND-Array Broadcoasting Rules**\n",
    "\n",
    "Broadcasting follows the same rules as NumPy ND-array broadcasting:\n",
    "\n",
    "- Input arrays do not need to have the same number of dimensions\n",
    "- The resulting array will have the same number of dimensions as the largest\n",
    "- The size of each dimension is the largest size of the corresponding dimension\n",
    "- Missing dimensions are assumed to have size one\n",
    "- It starts with the trailing (i.e. rightmost) dimension and works its way left\n",
    "- Two dimensions are compatible when their sizes are equal or one of them is one"
   ]
  },
  {
   "cell_type": "code",
   "execution_count": 34,
   "id": "c5b8548e",
   "metadata": {},
   "outputs": [],
   "source": [
    "## Estimator V2 Broadcasting\n",
    "## Example: Parameterized bell circuit with multiple observables\n",
    "\n",
    "# Parameterized bell circuit\n",
    "theta = Parameter(\"θ\")\n",
    "par_bell = QuantumCircuit(2)\n",
    "par_bell.ry(theta, 0)\n",
    "par_bell.cx(0,1)\n",
    "\n",
    "# Transpile to an ISA circuit for the intended backend\n",
    "isa_par_bell = transpile(par_bell, backend)\n",
    "\n",
    "# Parameter values to evaluate with 20 theta values\n",
    "param_vals = np.linspace(0, np.pi, 20)\n",
    "\n",
    "# Create an observable array with 3 observables\n",
    "par_bell_obs = [\n",
    "    qi.SparsePauliOp([\"XX\"]),\n",
    "    qi.SparsePauliOp([\"YY\"]),\n",
    "    qi.SparsePauliOp([\"ZZ\"]),\n",
    "]\n",
    "\n",
    "# Transpile to ISA observable and reshape to (3,1) array\n",
    "isa_par_bell_obs = [\n",
    "    [op.apply_layout(isa_par_bell.layout)] for op in par_bell_obs\n",
    "]\n",
    "\n",
    "# Construct Pub and run\n",
    "# Pub and result shape is (20,)\n",
    "pub = (isa_par_bell, isa_par_bell_obs, param_vals)"
   ]
  },
  {
   "cell_type": "code",
   "execution_count": 35,
   "id": "444a4fce",
   "metadata": {},
   "outputs": [],
   "source": [
    "# Run estimator\n",
    "est_job_par_bell = estimator.run([pub])\n",
    "est_result_par_bell = est_job_par_bell.result()\n",
    "evs = est_result_par_bell[0].data.evs\n",
    "stds = est_result_par_bell[0].data.stds"
   ]
  },
  {
   "cell_type": "code",
   "execution_count": 47,
   "id": "d744cfb6",
   "metadata": {},
   "outputs": [
    {
     "data": {
      "image/png": "[encoded data removed]",
      "text/plain": [
       "<Figure size 640x480 with 1 Axes>"
      ]
     },
     "metadata": {},
     "output_type": "display_data"
    }
   ],
   "source": [
    "# Plot results\n",
    "plt.plot(param_vals, evs[0], label=\"XX\")\n",
    "plt.plot(param_vals, evs[1], label=\"YY\")\n",
    "plt.plot(param_vals, evs[2], label=\"ZZ\")\n",
    "plt.xlabel(\"θ\")\n",
    "plt.ylabel(r\"$\\langle O \\rangle$\")\n",
    "plt.legend(title = r\"$O$\")\n",
    "plt.show()"
   ]
  },
  {
   "cell_type": "markdown",
   "id": "e7c57808",
   "metadata": {},
   "source": [
    "#### ISA Observables\n",
    "\n",
    "**What is an ISA observable?**\n",
    "\n",
    "1. A linear combination of Pauli's with real coefficients\n",
    "2. Each Pauli is defined on the same number of qubits as an ISA circuit\n",
    "\n",
    "- If you are used to working with abstract observables you will need to *apply the layout* of a transpiled circuit to map the observable qubits\n",
    "- Several `SparsePauliOp` and `Pauli` operator classes have an `apply_layout` method to simplify this process"
   ]
  },
  {
   "cell_type": "code",
   "execution_count": 48,
   "id": "8d8f4692",
   "metadata": {},
   "outputs": [
    {
     "data": {
      "image/png": "[encoded data removed]",
      "text/plain": [
       "<Figure size 423.386x117.056 with 1 Axes>"
      ]
     },
     "execution_count": 48,
     "metadata": {},
     "output_type": "execute_result"
    }
   ],
   "source": [
    "abstract_example = QuantumCircuit(1)\n",
    "abstract_example.h(0)\n",
    "isa_example = transpile(abstract_example, backend, initial_layout=[4])\n",
    "isa_example.draw(\"mpl\", idle_wires=False)"
   ]
  },
  {
   "cell_type": "code",
   "execution_count": 49,
   "id": "1b720c6d",
   "metadata": {},
   "outputs": [
    {
     "data": {
      "text/plain": [
       "SparsePauliOp(['IIIIIIIIIIIIIIIIIIIIIIIIIIIIIIIIIIIIIIIIIIIIIIIIIIIIIIIIIIIIIIIIIIIIIIIIIIIIIIIIIIIIIIIIIIIIIIIIIIIIIIIIIIIIIIIIIIIIIIIIIIXIIII', 'IIIIIIIIIIIIIIIIIIIIIIIIIIIIIIIIIIIIIIIIIIIIIIIIIIIIIIIIIIIIIIIIIIIIIIIIIIIIIIIIIIIIIIIIIIIIIIIIIIIIIIIIIIIIIIIIIIIIIIIIIIYIIII', 'IIIIIIIIIIIIIIIIIIIIIIIIIIIIIIIIIIIIIIIIIIIIIIIIIIIIIIIIIIIIIIIIIIIIIIIIIIIIIIIIIIIIIIIIIIIIIIIIIIIIIIIIIIIIIIIIIIIIIIIIIIZIIII'],\n",
       "              coeffs=[1.+0.j, 1.+0.j, 1.+0.j])"
      ]
     },
     "execution_count": 49,
     "metadata": {},
     "output_type": "execute_result"
    }
   ],
   "source": [
    "abstract_obs = qi.SparsePauliOp([\"X\", \"Y\", \"Z\"])\n",
    "abstract_obs.apply_layout(isa_example.layout)"
   ]
  },
  {
   "cell_type": "markdown",
   "id": "f8e7b241",
   "metadata": {},
   "source": [
    "#### Estimator Containers\n",
    "\n",
    "**Helper container classes**\n",
    "\n",
    "- `ObservablesArray` and `BindingsArray` are new helper classes for manipulating these arrays\n",
    "    - `ObservablesArray` is like a NumPy array of `SparsePauliOp` observables\n",
    "    - `BindingsArray` is like a NumPy array for named parameter value sets\n",
    "    - Have convenience methods like e.g. reshape\n",
    "\n",
    "**Disclaimer**: These classes are *experimental*, so their API is not guaranteed to be stable"
   ]
  },
  {
   "cell_type": "code",
   "execution_count": 52,
   "id": "8ff9ab54",
   "metadata": {},
   "outputs": [],
   "source": [
    "from qiskit.primitives.containers.observables_array import ObservablesArray\n",
    "\n",
    "# Shape (3,1) list of Pauli Array\n",
    "obs = ObservablesArray([\"XX\", \"YY\", \"ZZ\"]).reshape(3,1)\n",
    "\n",
    "# Apply ISA circuit layout\n",
    "# isa_obs = obs.apply_layout(isa_par_bell.layout) <= LOOKS LIKE THIS DOESN'T WORK!!!!"
   ]
  },
  {
   "cell_type": "code",
   "execution_count": 53,
   "id": "68285e4d",
   "metadata": {},
   "outputs": [
    {
     "data": {
      "text/plain": [
       "BindingsArray(<shape=(20,), num_parameters=1, parameters=['θ']>)"
      ]
     },
     "execution_count": 53,
     "metadata": {},
     "output_type": "execute_result"
    }
   ],
   "source": [
    "from qiskit.primitives.containers.bindings_array import BindingsArray\n",
    "\n",
    "BindingsArray({tuple(isa_par_bell.parameters): param_vals})"
   ]
  },
  {
   "cell_type": "markdown",
   "id": "ec9a48e5",
   "metadata": {},
   "source": [
    "#### Measurement Observables\n",
    "\n",
    "**Decomposing Measurement Observables**\n",
    "\n",
    "- IBM primitives apply Pauli grouping to minimize the number of measurement circuits\n",
    "- Groups Pauli's that can be computed from marginals of a single measurement\n",
    "- Grouping is done via the `PauliList.group_commuting(qubit_wise=True)`\n",
    "\n",
    "**Component Expectation Values**\n",
    "\n",
    "- When evaluating a Hamiltonian $H = \\sum_i \\alpha_i P_i$ you can also include the individual $P_i$ term expectation values\n",
    "- This will incur no additional QPU time, and a minor increase in classical post-processing time"
   ]
  },
  {
   "cell_type": "code",
   "execution_count": 54,
   "id": "07e00899",
   "metadata": {},
   "outputs": [
    {
     "data": {
      "text/plain": [
       "[PauliList(['ZII', 'IZI', 'IIZ']),\n",
       " PauliList(['XII', 'IXI', 'IIX']),\n",
       " PauliList(['YII', 'IYI', 'IIY'])]"
      ]
     },
     "execution_count": 54,
     "metadata": {},
     "output_type": "execute_result"
    }
   ],
   "source": [
    "paulis = qi.PauliList([\"ZII\", \"IZI\", \"IIZ\", \"XII\", \"IXI\", \"IIX\", \"YII\", \"IYI\", \"IIY\"])\n",
    "paulis.group_commuting(qubit_wise=True)"
   ]
  },
  {
   "cell_type": "code",
   "execution_count": 55,
   "id": "f6d85d97",
   "metadata": {},
   "outputs": [
    {
     "data": {
      "text/plain": [
       "ObservablesArray([{'ZII': np.float64(0.3333333333333333), 'IZI': np.float64(0.3333333333333333), 'IIZ': np.float64(0.3333333333333333)}\n",
       "                  {'ZII': 1} {'IZI': 1} {'IIZ': 1}], shape=(4,))"
      ]
     },
     "execution_count": 55,
     "metadata": {},
     "output_type": "execute_result"
    }
   ],
   "source": [
    "# Want to estimate expectation value of\n",
    "H = qi.SparsePauliOp([\"ZII\", \"IZI\", \"IIZ\"], 1/3)\n",
    "\n",
    "# To get access to component terms as well we should set\n",
    "obs = ObservablesArray([H, *H.paulis])\n",
    "obs"
   ]
  },
  {
   "cell_type": "markdown",
   "id": "4895b045",
   "metadata": {},
   "source": [
    "#### IBM Runtime Primitives Options\n",
    "\n",
    "- The Sampler and Estimator API described allows creation of portable programs\n",
    "- The IBM runtime primitives support additional functionality which can be configured by *options*\n",
    "- Enables automatic *error suppression* and *mitigation* methods\n",
    "\n",
    "**Sampler Options**\n",
    "- `default_shots`: the default shots when running Pubs\n",
    "- `dynamical_decoupling`: sub-options for enabling and configuring automatic dynamical decoupling (DD)\n",
    "- `twirling`: sub-options for enabling and configuring automatic Pauli-twirling\n",
    "\n",
    "**Estimator Options**\n",
    "- `default_precision`: the default precision when running Pubs\n",
    "- `default_shots`: a proxy for setting default precision in terms of shots\n",
    "- `resilience_level`: enable preset resilience options\n",
    "- `dynamical_decoupling`: sub-options for enabling and configuring automatic dynamical decoupling (DD)\n",
    "- `twirling`: sub-options for enabling and configuring automatic Pauli-twirling\n",
    "- `resilience`: sub-options for enabling and configuring mitigation methods"
   ]
  },
  {
   "cell_type": "markdown",
   "id": "ea751187",
   "metadata": {},
   "source": [
    "#### Pauli Twirling\n",
    "\n",
    "- Pauli twirling converts a general noise channel into a Pauli error channel\n",
    "- Requires *transpiling* circuit to identify layers of twirled 2-qubit gates or measurements\n",
    "- *Reparameterizes* the circuit to allow *parametrically inserting* random Paulis\n",
    "- Samples random Paulis to insert into the circuit in a specific way\n",
    "- Averages (Estimator) or concatenates (Sampler) the results over samples"
   ]
  },
  {
   "cell_type": "markdown",
   "id": "8c9ef3e9",
   "metadata": {},
   "source": [
    "#### Twirling Options\n",
    "\n",
    "Twirling is controlled via the following twirling options:\n",
    "- `enable_gates`: Whether to apply 2-qubit gate twirling\n",
    "- `enable_measure`: Whether to enable twirling of measurements\n",
    "- `num_randomizations`: The number of random samples to use when twirling or performing sampled mitigation\n",
    "- `shots_per_randomization`: The number of shots to run for each random sample\n",
    "- `strategy`: Specify the strategy of twirling qubits in identified layers of 2-qubit twirled gates\n",
    "\n",
    "**Default Values**\n",
    "\n",
    "If default values, the number of shots for the Pub will be divided across 32 randomizations. If values are set for `num_randomizations` and `shots_per_randomization` these values must be >= the shots for all executed Pubs.\n",
    "\n",
    "**Twirling Strategy**\n",
    "\n",
    "The following strategies are supported:\n",
    "- `active`: Only twirl gate qubits in each layer\n",
    "- `active-accum`: Twirl the accumulated gate qubits up to and including the current layer\n",
    "- `active-circuit`: In each layer twirl the union of all gate qubits in the whole circuit\n",
    "- `all`: In each layer twirl all qubits in the circuit, including idle qubits"
   ]
  },
  {
   "cell_type": "code",
   "execution_count": 56,
   "id": "1eb026df",
   "metadata": {},
   "outputs": [],
   "source": [
    "# Set options after initializing\n",
    "twirl_sampler = SamplerV2(backend)\n",
    "twirl_sampler.options.twirling.enable_gates = True\n",
    "twirl_sampler.options.twirling.enable_measure = True\n",
    "twirl_sampler.options.twirling.strategy = \"active-circuit\"\n",
    "\n",
    "# Pass-options during initialization\n",
    "options = {\n",
    "    \"twirling\": {\n",
    "        \"enable_gates\": True,\n",
    "        \"enable_measure\": True,\n",
    "        \"strategy\": \"active-circuit\",\n",
    "    }\n",
    "}\n",
    "twirl_sampler = SamplerV2(backend, options=options)"
   ]
  },
  {
   "cell_type": "markdown",
   "id": "a9bf039d",
   "metadata": {},
   "source": [
    "#### Estimator Resilience Sub-Options\n",
    "\n",
    "The IBM Runtime Estimator primitives support built-in error mitigation methods\n",
    "\n",
    "These can be enabled via the following `resilience` options:\n",
    "- `measure_mitigation`: Whether to enable measurement error mitigation method\n",
    "- `zne_mitigation`: Whether to turn on Zero Noise Extrapolation error mitigation method\n",
    "- `pec_mitigation`: Whether to turn on Probabilisitc Error Cancellation error mitigation method\n",
    "\n",
    "These will be covered more in later sessions\n",
    "\n",
    "There are also sub-options for additional configuration of error mitigation:\n",
    "- `zne`: Additional options for configuring ZNE mitigation\n",
    "- `pec`: Additional options for configuring PEC mitigation\n",
    "- `measure_noise_learning`: Addiitonal options for noise learning for measure mitigation\n",
    "- `layer_noise_learning`: Additional options for noise learning for PEC mitigation"
   ]
  },
  {
   "cell_type": "markdown",
   "id": "4a9f8542",
   "metadata": {},
   "source": [
    "#### Estimator Resilience Levels\n",
    "\n",
    "The IBM Runtime Estimator has built in *resilience levels* to automate option configuration\n",
    "\n",
    "| Option | 0 | 1 | 2 |\n",
    "| - | - | - | - |\n",
    "| Measure Twirling | False | True | True |\n",
    "| Measure Mitigation | False | True | True |\n",
    "| Gate Twirling | False | False | True |\n",
    "| ZNE Mitigation | False | False | True |\n",
    "\n",
    "Default resilience levels can be further customized using the individual options"
   ]
  },
  {
   "cell_type": "code",
   "execution_count": 57,
   "id": "6013e0ac",
   "metadata": {},
   "outputs": [],
   "source": [
    "# Initialize estimator for ZNE\n",
    "estimator = EstimatorV2(backend, options={\"resilience_level\": 2})\n",
    "\n",
    "# Initialize and customize an estimator for ZNE\n",
    "estimator = EstimatorV2(backend)\n",
    "estimator.options.resilience_level = 2\n",
    "estimator.options.dynamical_decoupling.enable = True\n",
    "estimator.options.dynamical_decoupling.sequence_type = \"XY4\"\n",
    "estimator.options.resilience.zne.extrapolator = \"linear\""
   ]
  }
 ],
 "metadata": {
  "kernelspec": {
   "display_name": "cwq",
   "language": "python",
   "name": "python3"
  },
  "language_info": {
   "codemirror_mode": {
    "name": "ipython",
    "version": 3
   },
   "file_extension": ".py",
   "mimetype": "text/x-python",
   "name": "python",
   "nbconvert_exporter": "python",
   "pygments_lexer": "ipython3",
   "version": "3.13.2"
  }
 },
 "nbformat": 4,
 "nbformat_minor": 5
}
